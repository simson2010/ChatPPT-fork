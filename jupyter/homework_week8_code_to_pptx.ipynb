{
 "cells": [
  {
   "cell_type": "markdown",
   "id": "6b185123-94cf-45f1-95d7-a6fab7e9c752",
   "metadata": {},
   "source": [
    "## Homework week8 \n"
   ]
  },
  {
   "cell_type": "code",
   "execution_count": null,
   "id": "958079e6-86fd-4f28-b45f-c7d172d22178",
   "metadata": {},
   "outputs": [],
   "source": []
  },
  {
   "cell_type": "code",
   "execution_count": 35,
   "id": "a0b43ba8-4e47-48f6-befd-de4aabd713bd",
   "metadata": {},
   "outputs": [],
   "source": [
    "from pptx import Presentation\n",
    "from pptx.util import Inches"
   ]
  },
  {
   "cell_type": "code",
   "execution_count": 36,
   "id": "2a891a4e-7ee0-471e-a036-b10ee2ee7f3d",
   "metadata": {},
   "outputs": [
    {
     "name": "stdout",
     "output_type": "stream",
     "text": [
      "12192000\n",
      "6858000\n",
      "13.333333333333334\n",
      "7.5\n"
     ]
    }
   ],
   "source": [
    "p = Presentation('ChatPPT Demo.pptx')\n",
    "print(p.slide_width)\n",
    "print(p.slide_height)\n",
    "in_1 = Inches(1)\n",
    "print(p.slide_width/in_1)\n",
    "print(p.slide_height/in_1)"
   ]
  },
  {
   "cell_type": "code",
   "execution_count": 37,
   "id": "fa930386-803f-4b8f-941b-3878f6d5c92c",
   "metadata": {},
   "outputs": [],
   "source": [
    "prs = Presentation()\n",
    "prs.slide_width = Inches(13.333)\n",
    "prs.slide_height = Inches(7.5)"
   ]
  },
  {
   "cell_type": "code",
   "execution_count": 38,
   "id": "2d883b4e-7fb3-4ab6-abe2-fea0fcffd458",
   "metadata": {},
   "outputs": [],
   "source": [
    "slide1 = prs.slides.add_slide(prs.slide_layouts[0])\n"
   ]
  },
  {
   "cell_type": "markdown",
   "id": "1c9edb1a-3e5b-496a-84c6-108275395b34",
   "metadata": {},
   "source": [
    "## Add Text"
   ]
  },
  {
   "cell_type": "code",
   "execution_count": 39,
   "id": "b4eb2a0c-64dc-4575-988c-b02c583270a3",
   "metadata": {},
   "outputs": [],
   "source": [
    "## Add Textbox\n",
    "slide1.shapes.title.text=\"Hello PPT\"\n",
    "left=top = Inches(1)\n",
    "width=height=Inches(2)\n",
    "textbox = slide1.shapes.add_textbox(left, top, width, height)\n",
    "textbox.text_frame.text = \"This is added by code\"\n"
   ]
  },
  {
   "cell_type": "markdown",
   "id": "73184cce-9508-4275-aa49-8a3c7d9f6663",
   "metadata": {},
   "source": [
    "## Add Picture"
   ]
  },
  {
   "cell_type": "code",
   "execution_count": 40,
   "id": "5ced3dc8-3674-4cb9-9323-df2b2a1f0f8e",
   "metadata": {},
   "outputs": [],
   "source": [
    "image_path=\"dancing_girl_end.png\"\n",
    "\n",
    "left= Inches(1)\n",
    "top = slide1.shapes[0].top + slide1.shapes[0].height\n",
    "width=height=Inches(2)\n",
    "pic = slide1.shapes.add_picture(image_path, left, top , width, height)\n",
    "\n"
   ]
  },
  {
   "cell_type": "markdown",
   "id": "5ffeb26f-7e1f-4509-90e6-c712e0c80f84",
   "metadata": {},
   "source": [
    "## Add Table"
   ]
  },
  {
   "cell_type": "code",
   "execution_count": 41,
   "id": "c8f62815-4226-4849-ae54-d8ecaf4898ae",
   "metadata": {},
   "outputs": [],
   "source": [
    "slide2 = prs.slides.add_slide(prs.slide_layouts[1])\n",
    "slide2.shapes.title.text = 'Demo for Table'"
   ]
  },
  {
   "cell_type": "code",
   "execution_count": 42,
   "id": "e1b64de3-7736-4030-b6b8-c308bf7a5116",
   "metadata": {},
   "outputs": [],
   "source": [
    "left = Inches(1)\n",
    "top = slide2.shapes[0].top + slide2.shapes[0].height\n",
    "width = Inches(4)\n",
    "height = Inches(3)\n",
    "tableFrame = slide2.shapes.add_table(3,3, left, top , width, height)\n",
    "\n",
    "table = tableFrame.table\n",
    "row , col = 0,0\n",
    "table.cell(row, col).text = 'Hello Taable'\n"
   ]
  },
  {
   "cell_type": "code",
   "execution_count": null,
   "id": "2832e0c7-1b72-4a6b-896b-89cebac6028d",
   "metadata": {},
   "outputs": [],
   "source": []
  },
  {
   "cell_type": "markdown",
   "id": "de93ab00-6806-4487-93e9-763552c0ee12",
   "metadata": {},
   "source": [
    "## Add Chart\n"
   ]
  },
  {
   "cell_type": "code",
   "execution_count": 43,
   "id": "cd3dc711-a36e-43f4-91b3-b4e65874bb39",
   "metadata": {},
   "outputs": [
    {
     "data": {
      "text/plain": [
       "<pptx.chart.data.CategorySeriesData at 0x1d640cda380>"
      ]
     },
     "execution_count": 43,
     "metadata": {},
     "output_type": "execute_result"
    }
   ],
   "source": [
    "from pptx.chart.data import CategoryChartData\n",
    "data = CategoryChartData()\n",
    "\n",
    "data.categories = ['male', 'female']\n",
    "\n",
    "data.add_series('Series 1', (42, 24))"
   ]
  },
  {
   "cell_type": "code",
   "execution_count": 44,
   "id": "9b9a783c-4a1b-43d6-82ba-0b6bb00f24fc",
   "metadata": {},
   "outputs": [],
   "source": [
    "from pptx.enum.chart import XL_CHART_TYPE\n",
    "\n",
    "slide3 = prs.slides.add_slide(prs.slide_layouts[1])\n",
    "slide3.shapes.title.text = 'Demo for Chart'\n",
    "\n",
    "left = Inches(1)\n",
    "top = slide3.shapes[0].top + slide3.shapes[0].height\n",
    "width = Inches(4)\n",
    "height = Inches(3)\n",
    "chartType = XL_CHART_TYPE.BAR_STACKED\n",
    "chart = slide3.shapes.add_chart(chartType, left, top, width, height, data)\n",
    "\n"
   ]
  },
  {
   "cell_type": "code",
   "execution_count": 45,
   "id": "31c62b04-3c99-4bad-864f-2a6deed7f265",
   "metadata": {},
   "outputs": [],
   "source": [
    "prs.save('code_to_ppt_demo.pptx')\n"
   ]
  },
  {
   "cell_type": "code",
   "execution_count": null,
   "id": "efa6b382-60cc-4a7e-afcf-4edd55f47950",
   "metadata": {},
   "outputs": [],
   "source": []
  },
  {
   "cell_type": "code",
   "execution_count": null,
   "id": "17b0bafb-9c7f-4e14-9eef-b5b17d07f0da",
   "metadata": {},
   "outputs": [],
   "source": []
  },
  {
   "cell_type": "code",
   "execution_count": null,
   "id": "e811c7c3-c27c-4846-96ae-770cb5672974",
   "metadata": {},
   "outputs": [],
   "source": []
  },
  {
   "cell_type": "code",
   "execution_count": null,
   "id": "46c6f473-7221-43e5-b3f0-43b0c5399fc6",
   "metadata": {},
   "outputs": [],
   "source": []
  },
  {
   "cell_type": "code",
   "execution_count": null,
   "id": "6de47910-ec07-4f6b-86c6-b78b9abd4c1e",
   "metadata": {},
   "outputs": [],
   "source": []
  },
  {
   "cell_type": "code",
   "execution_count": null,
   "id": "7d4c7e82-dac5-497a-9567-958569b4c9cf",
   "metadata": {},
   "outputs": [],
   "source": []
  },
  {
   "cell_type": "code",
   "execution_count": null,
   "id": "e4efa77d-eeb7-4506-b0de-55f3c629fb4d",
   "metadata": {},
   "outputs": [],
   "source": []
  },
  {
   "cell_type": "code",
   "execution_count": null,
   "id": "27fb6436-2728-4fd6-9823-ec0e57659cf2",
   "metadata": {},
   "outputs": [],
   "source": []
  },
  {
   "cell_type": "code",
   "execution_count": null,
   "id": "7f82cab6-3c9a-49bc-89d0-32672079807b",
   "metadata": {},
   "outputs": [],
   "source": []
  },
  {
   "cell_type": "code",
   "execution_count": null,
   "id": "8094eed9-8600-487d-b7c1-64e6c20cbac1",
   "metadata": {},
   "outputs": [],
   "source": []
  },
  {
   "cell_type": "code",
   "execution_count": null,
   "id": "4c078d0c-99bc-443f-b329-bbc96397266b",
   "metadata": {},
   "outputs": [],
   "source": []
  }
 ],
 "metadata": {
  "kernelspec": {
   "display_name": "Python 3 (ipykernel)",
   "language": "python",
   "name": "python3"
  },
  "language_info": {
   "codemirror_mode": {
    "name": "ipython",
    "version": 3
   },
   "file_extension": ".py",
   "mimetype": "text/x-python",
   "name": "python",
   "nbconvert_exporter": "python",
   "pygments_lexer": "ipython3",
   "version": "3.10.0rc2"
  }
 },
 "nbformat": 4,
 "nbformat_minor": 5
}
